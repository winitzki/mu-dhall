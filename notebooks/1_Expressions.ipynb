{
 "cells": [
  {
   "cell_type": "markdown",
   "id": "8cba7e0b-c80d-4782-a3dd-59bd42de89dc",
   "metadata": {},
   "source": [
    "See [Scala and jupyter notebook](https://jonnylaw.rocks/posts/2019-04-15-scala-and-jupyter-notebook-with-almond/) for some info about setup."
   ]
  },
  {
   "cell_type": "code",
   "execution_count": 1,
   "id": "15d804b6-38ba-4775-9bee-375a7c338957",
   "metadata": {},
   "outputs": [
    {
     "data": {
      "text/plain": [
       "\u001b[32mimport \u001b[39m\u001b[36m$ivy.$                               , enumeratum.{Enum, EnumEntry}\n",
       "\u001b[39m\n",
       "\u001b[32mimport \u001b[39m\u001b[36m$ivy.$                                     , com.eed3si9n.expecty.Expecty.expect\n",
       "\u001b[39m\n",
       "\u001b[32mimport \u001b[39m\u001b[36mfastparse._\u001b[39m\n",
       "\u001b[32mimport \u001b[39m\u001b[36mscala.language.implicitConversions\u001b[39m"
      ]
     },
     "execution_count": 1,
     "metadata": {},
     "output_type": "execute_result"
    }
   ],
   "source": [
    "import $ivy.`com.beachape::enumeratum:1.7.3`, enumeratum.{Enum, EnumEntry}\n",
    "import $ivy.`com.eed3si9n.expecty::expecty:0.16.0`, com.eed3si9n.expecty.Expecty.expect\n",
    "import fastparse._\n",
    "import scala.language.implicitConversions"
   ]
  },
  {
   "cell_type": "markdown",
   "id": "925945b2-4082-4ec5-b7dc-a6c502b65da8",
   "metadata": {},
   "source": [
    "An expression in µDhall is one of the 9 cases:\n",
    "\n",
    "1. A constant number of type `Natural`, for example: `123`\n",
    "2. A constant built-in symbol, for example: `Type`\n",
    "3. A variable symbol, possibly with an index, for example: `x@n`\n",
    "4. An exression with an explicit type, for example: `x : t`\n",
    "5. A lambda function, for example: `λ(a : t) → b`\n",
    "6. A function type, for example: `∀(a : t) → b`\n",
    "7. A `let` expression, for example: `let x = a in b`\n",
    "8. A function application, for example: `f a`\n",
    "9. A built-in binary operation, for example: `x * y`"
   ]
  },
  {
   "cell_type": "code",
   "execution_count": 2,
   "id": "1c3905db-f793-40a7-b326-221a85396909",
   "metadata": {},
   "outputs": [
    {
     "data": {
      "text/plain": [
       "defined \u001b[32mclass\u001b[39m \u001b[36mConstant\u001b[39m\n",
       "defined \u001b[32mobject\u001b[39m \u001b[36mConstant\u001b[39m\n",
       "\u001b[32mimport \u001b[39m\u001b[36mConstant._\u001b[39m"
      ]
     },
     "execution_count": 2,
     "metadata": {},
     "output_type": "execute_result"
    }
   ],
   "source": [
    "// Define the set of built-in symbols supported in µDhall.\n",
    "\n",
    "sealed abstract class Constant(override val entryName: String) extends EnumEntry {}\n",
    "\n",
    "object Constant extends Enum[Constant] {\n",
    "  override def values = findValues\n",
    "\n",
    "  case object Natural         extends Constant(\"Natural\")\n",
    "  case object NaturalFold     extends Constant(\"Natural/fold\")\n",
    "  case object NaturalSubtract extends Constant(\"Natural/subtract\")\n",
    "  case object Kind            extends Constant(\"Kind\")\n",
    "  case object Type            extends Constant(\"Type\")\n",
    "}\n",
    "import Constant._"
   ]
  },
  {
   "cell_type": "code",
   "execution_count": 3,
   "id": "820d2d1e-9bd0-47ea-809f-7c0281810ca3",
   "metadata": {},
   "outputs": [
    {
     "data": {
      "text/plain": [
       "defined \u001b[32mclass\u001b[39m \u001b[36mOperator\u001b[39m\n",
       "defined \u001b[32mobject\u001b[39m \u001b[36mOperator\u001b[39m"
      ]
     },
     "execution_count": 3,
     "metadata": {},
     "output_type": "execute_result"
    }
   ],
   "source": [
    "// Define the set of built-in binary operators supported in µDhall.\n",
    "\n",
    "sealed abstract class Operator(val name: String) extends EnumEntry\n",
    "\n",
    "object Operator extends Enum[Operator] {\n",
    "  val values = findValues\n",
    "  // These operators work only with values of type Natural.\n",
    "  case object Plus extends Operator(\"+\")\n",
    "  case object Times extends Operator(\"*\")\n",
    "}"
   ]
  },
  {
   "cell_type": "code",
   "execution_count": 4,
   "id": "2656aae8-bed7-4300-a0bf-58631f9fb2fd",
   "metadata": {},
   "outputs": [
    {
     "name": "stderr",
     "output_type": "stream",
     "text": [
      "cmd4.sc:211: The outer reference in this type test cannot be checked at run time.\n",
      "  final case class NaturalLiteral(value: Int) extends Expr {\n",
      "                   ^\n",
      "cmd4.sc:215: The outer reference in this type test cannot be checked at run time.\n",
      "  final case class Variable(name: String, index: Int = 0) extends Expr {\n",
      "                   ^\n",
      "cmd4.sc:219: The outer reference in this type test cannot be checked at run time.\n",
      "  final case class Lambda(name: String, tipe: Expr, body: Expr) extends Expr\n",
      "                   ^\n",
      "cmd4.sc:222: The outer reference in this type test cannot be checked at run time.\n",
      "  final case class Forall(name: String, tipe: Expr, body: Expr) extends Expr\n",
      "                   ^\n",
      "cmd4.sc:225: The outer reference in this type test cannot be checked at run time.\n",
      "  final case class Let(name: String, subst: Expr, body: Expr) extends Expr\n",
      "                   ^\n",
      "cmd4.sc:228: The outer reference in this type test cannot be checked at run time.\n",
      "  final case class Annotated(body: Expr, tipe: Expr) extends Expr\n",
      "                   ^\n",
      "cmd4.sc:231: The outer reference in this type test cannot be checked at run time.\n",
      "  final case class Applied(func: Expr, arg: Expr) extends Expr\n",
      "                   ^\n",
      "cmd4.sc:234: The outer reference in this type test cannot be checked at run time.\n",
      "  final case class Builtin(constant: Constant) extends Expr\n",
      "                   ^\n",
      "cmd4.sc:237: The outer reference in this type test cannot be checked at run time.\n",
      "  final case class BinaryOp(left: Expr, op: Operator, right: Expr) extends Expr\n",
      "                   ^\n"
     ]
    },
    {
     "data": {
      "text/plain": [
       "defined \u001b[32mtrait\u001b[39m \u001b[36mExpr\u001b[39m\n",
       "defined \u001b[32mobject\u001b[39m \u001b[36mExpr\u001b[39m"
      ]
     },
     "execution_count": 4,
     "metadata": {},
     "output_type": "execute_result"
    }
   ],
   "source": [
    "sealed trait Expr\n",
    "\n",
    "object Expr {\n",
    "  // Natural literals, for example 123\n",
    "  final case class NaturalLiteral(value: Int) extends Expr {\n",
    "      require(value >= 0)\n",
    "  }\n",
    "  // Variables with their de Bruijn indices.\n",
    "  final case class Variable(name: String, index: Int = 0) extends Expr {\n",
    "      require (index >= 0)\n",
    "  }\n",
    "  // λ(name : tipe) → body  -- Function literal value.\n",
    "  final case class Lambda(name: String, tipe: Expr, body: Expr) extends Expr\n",
    "\n",
    "  // ∀(name : tipe) → body  -- Function type.\n",
    "  final case class Forall(name: String, tipe: Expr, body: Expr) extends Expr\n",
    "\n",
    "  // let name = subst in body  -- Locally scoped variable definition.\n",
    "  final case class Let(name: String, subst: Expr, body: Expr) extends Expr\n",
    "\n",
    "  // body : tipe   -- Expression that is annotated with a type.\n",
    "  final case class Annotated(body: Expr, tipe: Expr) extends Expr\n",
    "\n",
    "  // func arg   -- Application of a function to an argument.\n",
    "  final case class Applied(func: Expr, arg: Expr) extends Expr\n",
    "\n",
    "  // Built-in constant symbols such as \"Natural\" or \"Type\".\n",
    "  final case class Builtin(constant: Constant) extends Expr\n",
    "\n",
    "  // Binary operations such as \"n + 123\".\n",
    "  final case class BinaryOp(left: Expr, op: Operator, right: Expr) extends Expr\n",
    "}"
   ]
  },
  {
   "cell_type": "code",
   "execution_count": 5,
   "id": "02bb87c9-8331-4a21-812f-beb233a8038d",
   "metadata": {},
   "outputs": [
    {
     "data": {
      "text/plain": [
       "\u001b[36mtest\u001b[39m: \u001b[32mExpr\u001b[39m.\u001b[32mBinaryOp\u001b[39m = \u001b[33mBinaryOp\u001b[39m(\n",
       "  left = \u001b[33mNaturalLiteral\u001b[39m(value = \u001b[32m123\u001b[39m),\n",
       "  op = Plus,\n",
       "  right = \u001b[33mVariable\u001b[39m(name = \u001b[32m\"a\"\u001b[39m, index = \u001b[32m0\u001b[39m)\n",
       ")"
      ]
     },
     "execution_count": 5,
     "metadata": {},
     "output_type": "execute_result"
    }
   ],
   "source": [
    "val test = Expr.BinaryOp(Expr.NaturalLiteral(123), Operator.Plus, Expr.Variable(\"a\", 0))"
   ]
  },
  {
   "cell_type": "code",
   "execution_count": 25,
   "id": "4bfd6518-0231-4ff1-b3bb-9a29c140db02",
   "metadata": {},
   "outputs": [
    {
     "name": "stderr",
     "output_type": "stream",
     "text": [
      "cmd25.sc:3: The outer reference in this type test cannot be checked at run time.\n",
      "        case Expr.NaturalLiteral(_) | Expr.Builtin(_) | Expr.Variable(_, _) => e\n",
      "                                ^\n",
      "cmd25.sc:3: The outer reference in this type test cannot be checked at run time.\n",
      "        case Expr.NaturalLiteral(_) | Expr.Builtin(_) | Expr.Variable(_, _) => e\n",
      "                                                  ^\n",
      "cmd25.sc:3: The outer reference in this type test cannot be checked at run time.\n",
      "        case Expr.NaturalLiteral(_) | Expr.Builtin(_) | Expr.Variable(_, _) => e\n",
      "                                                                     ^\n",
      "cmd25.sc:10: The outer reference in this type test cannot be checked at run time.\n",
      "        case Expr.Lambda(name, tipe, body)   => Expr.Lambda(name, f(tipe), f(body))\n",
      "                        ^\n",
      "cmd25.sc:11: The outer reference in this type test cannot be checked at run time.\n",
      "        case Expr.Forall(name, tipe, body)   => Expr.Forall(name, f(tipe), f(body))\n",
      "                        ^\n",
      "cmd25.sc:12: The outer reference in this type test cannot be checked at run time.\n",
      "        case Expr.Let(name, subst, body)     => Expr.Let(name, f(subst), f(body))\n",
      "                     ^\n",
      "cmd25.sc:13: The outer reference in this type test cannot be checked at run time.\n",
      "        case Expr.Annotated(body, tipe)      => Expr.Annotated(f(body), f(tipe))\n",
      "                           ^\n",
      "cmd25.sc:14: The outer reference in this type test cannot be checked at run time.\n",
      "        case Expr.Applied(func, arg)         => Expr.Applied(f(func), f(arg))\n",
      "                         ^\n",
      "cmd25.sc:15: The outer reference in this type test cannot be checked at run time.\n",
      "        case Expr.BinaryOp(left, op, right)  => Expr.BinaryOp(f(left), op, f(right))\n",
      "                          ^\n"
     ]
    },
    {
     "data": {
      "text/plain": [
       "defined \u001b[32mclass\u001b[39m \u001b[36mExprMap\u001b[39m"
      ]
     },
     "execution_count": 25,
     "metadata": {},
     "output_type": "execute_result"
    }
   ],
   "source": [
    "implicit class ExprMap(e: Expr) {\n",
    "    def map(f: Expr => Expr): Expr = e match {\n",
    "        case Expr.NaturalLiteral(_) | Expr.Builtin(_) | Expr.Variable(_, _) => e\n",
    "/*case Expr.Lambda(name, tipe, body)   => Expr.Lambda(name, tipe.map(f), body.map(f))\n",
    "        case Expr.Forall(name, tipe, body)   => Expr.Forall(name, tipe.map(f), body.map(f))\n",
    "        case Expr.Let(name, subst, body)     => Expr.Let(name, subst.map(f), body.map(f))\n",
    "        case Expr.Annotated(body, tipe)      => Expr.Annotated(body.map(f), tipe.map(f))\n",
    "        case Expr.Applied(func, arg)         => Expr.Applied(func.map(f), arg.map(f))\n",
    "        case Expr.BinaryOp(left, op, right)  => Expr.BinaryOp(left.map(f), op, right.map(f))*/\n",
    "        case Expr.Lambda(name, tipe, body)   => Expr.Lambda(name, f(tipe), f(body))\n",
    "        case Expr.Forall(name, tipe, body)   => Expr.Forall(name, f(tipe), f(body))\n",
    "        case Expr.Let(name, subst, body)     => Expr.Let(name, f(subst), f(body))\n",
    "        case Expr.Annotated(body, tipe)      => Expr.Annotated(f(body), f(tipe))\n",
    "        case Expr.Applied(func, arg)         => Expr.Applied(f(func), f(arg))\n",
    "        case Expr.BinaryOp(left, op, right)  => Expr.BinaryOp(f(left), op, f(right))\n",
    "    }\n",
    "}"
   ]
  },
  {
   "cell_type": "code",
   "execution_count": 26,
   "id": "dafec1d9-75a7-4f1e-a3cf-be64173cdd86",
   "metadata": {},
   "outputs": [
    {
     "name": "stderr",
     "output_type": "stream",
     "text": [
      "cmd26.sc:29: The outer reference in this type test cannot be checked at run time.\n",
      "            case Annotated(Variable(v, 0), tipe) => Lambda(v, tipe, body)\n",
      "                          ^\n",
      "cmd26.sc:29: The outer reference in this type test cannot be checked at run time.\n",
      "            case Annotated(Variable(v, 0), tipe) => Lambda(v, tipe, body)\n",
      "                                   ^\n",
      "cmd26.sc:34: The outer reference in this type test cannot be checked at run time.\n",
      "            case Annotated(Variable(v, 0), tipe) => Forall(v, tipe, body)\n",
      "                          ^\n",
      "cmd26.sc:34: The outer reference in this type test cannot be checked at run time.\n",
      "            case Annotated(Variable(v, 0), tipe) => Forall(v, tipe, body)\n",
      "                                   ^\n"
     ]
    },
    {
     "data": {
      "text/plain": [
       "defined \u001b[32mobject\u001b[39m \u001b[36mDSL\u001b[39m\n",
       "\u001b[32mimport \u001b[39m\u001b[36mDSL._\u001b[39m"
      ]
     },
     "execution_count": 26,
     "metadata": {},
     "output_type": "execute_result"
    }
   ],
   "source": [
    "object DSL { // Helper methods for creating µDhall values more easily in Scala.\n",
    "    import Expr._\n",
    "    import Constant._\n",
    "    import Operator._\n",
    "    \n",
    "    implicit class IntroduceVar(name: String) {\n",
    "        def ! : Variable = Variable(name)\n",
    "        def !!(index: Int) : Variable = Variable(name, index)\n",
    "    }\n",
    "    implicit class IntroduceNatural(n: Int) {\n",
    "        def ! : NaturalLiteral = NaturalLiteral(n)\n",
    "    }\n",
    "    implicit class IntroduceSymbol(c: Constant) {\n",
    "        def ! : Expr = Builtin(c)\n",
    "    }\n",
    "    implicit class NaturalOps(e: Expr) {\n",
    "        def +(other: Expr): Expr = BinaryOp(e, Plus, other)\n",
    "        def *(other: Expr): Expr = BinaryOp(e, Times, other)\n",
    "    }\n",
    "    implicit class ExprAnnotate(e: Expr) {\n",
    "        def :~(tipe: Expr): Expr = Annotated(e, tipe)\n",
    "        def apply(arg: Expr): Expr = Applied(e, arg)\n",
    "        // Instead of \"let x = e in body\" we write body.let(x, e)\n",
    "        def let(arg: String, subst: Expr): Expr = Let(arg, subst, e)\n",
    "    }\n",
    "    implicit class ExprFunc(x: Expr) {\n",
    "        // Instead of \"λ(name : tipe) → body\" we write name.! :~ tipe ~> body\n",
    "        def ~>(body: Expr): Expr = x match {\n",
    "            case Annotated(Variable(v, 0), tipe) => Lambda(v, tipe, body)\n",
    "            case _ => throw new Exception(s\"Invalid Lambda: argument must be an Annotated name but instead got $x\")\n",
    "        }\n",
    "        // Instead of \"∀(name : tipe) → body\" we write name.! :~ tipe :~> body\n",
    "        def :~>(body: Expr): Expr = x match {\n",
    "            case Annotated(Variable(v, 0), tipe) => Forall(v, tipe, body)\n",
    "            case _ => throw new Exception(s\"Invalid Forall: argument must be an Annotated name but instead got $x\")\n",
    "        }\n",
    "    }\n",
    "}\n",
    "import DSL._"
   ]
  },
  {
   "cell_type": "code",
   "execution_count": 27,
   "id": "f0b20d83-99b2-4b84-94d8-3d742eb028e2",
   "metadata": {},
   "outputs": [
    {
     "data": {
      "text/plain": [
       "defined \u001b[32mobject\u001b[39m \u001b[36mTest1\u001b[39m"
      ]
     },
     "execution_count": 27,
     "metadata": {},
     "output_type": "execute_result"
    }
   ],
   "source": [
    "object Test1 {\n",
    "    // A simple test.\n",
    "\n",
    "    val test0 = 1.! + 2.! + 3.!\n",
    "    val test1 = \"n\".! + 123.! :~  Natural.!\n",
    "    val test2 = (\"n\".! :~ Natural.!) ~> (\"n\".! + 1.!)\n",
    "    val test3 = (\"n\".! :~ Natural.!) :~> Natural.!\n",
    "    val test4 = test2 :~ test3\n",
    "    val test5 = test2(test1)\n",
    "    val test6 = \"f\".! (\"g\".! (\"x\".!))\n",
    "}"
   ]
  },
  {
   "cell_type": "code",
   "execution_count": 28,
   "id": "4109d413-28c9-4dd8-974e-3552f4c0cffb",
   "metadata": {},
   "outputs": [
    {
     "name": "stderr",
     "output_type": "stream",
     "text": [
      "cmd28.sc:41: The outer reference in this type test cannot be checked at run time.\n",
      "    case Expr.NaturalLiteral(_) | Expr.Variable(_, _) | Expr.Builtin(_) => (0, List())  // Never need parentheses.\n",
      "                            ^\n",
      "cmd28.sc:41: The outer reference in this type test cannot be checked at run time.\n",
      "    case Expr.NaturalLiteral(_) | Expr.Variable(_, _) | Expr.Builtin(_) => (0, List())  // Never need parentheses.\n",
      "                                               ^\n",
      "cmd28.sc:41: The outer reference in this type test cannot be checked at run time.\n",
      "    case Expr.NaturalLiteral(_) | Expr.Variable(_, _) | Expr.Builtin(_) => (0, List())  // Never need parentheses.\n",
      "                                                                    ^\n",
      "cmd28.sc:42: The outer reference in this type test cannot be checked at run time.\n",
      "    case Expr.Lambda(name, tipe, body) => (50, List(50, 50))\n",
      "                    ^\n",
      "cmd28.sc:43: The outer reference in this type test cannot be checked at run time.\n",
      "    case Expr.Forall(name, tipe, body) => (50, List(50, 50))\n",
      "                    ^\n",
      "cmd28.sc:44: The outer reference in this type test cannot be checked at run time.\n",
      "    case Expr.Let(name, subst, body) => (50, List(50, 50))\n",
      "                 ^\n",
      "cmd28.sc:45: The outer reference in this type test cannot be checked at run time.\n",
      "    case Expr.Annotated(body, tipe) => (8, List(7, 60))   //   ( 1 : Natural ) : Natural : Type\n",
      "                       ^\n",
      "cmd28.sc:46: The outer reference in this type test cannot be checked at run time.\n",
      "    case Expr.Applied(func, arg) => (5, List(4, 4))      //   f (g x)\n",
      "                     ^\n",
      "cmd28.sc:47: The outer reference in this type test cannot be checked at run time.\n",
      "    case Expr.BinaryOp(_, op, _) =>\n",
      "                      ^\n",
      "cmd28.sc:62: The outer reference in this type test cannot be checked at run time.\n",
      "    case Expr.NaturalLiteral(value) => value.toString\n",
      "                            ^\n",
      "cmd28.sc:63: The outer reference in this type test cannot be checked at run time.\n",
      "    case Expr.Variable(name, index) => name + (if (index != 0) s\"@$index\" else \"\")\n",
      "                      ^\n",
      "cmd28.sc:64: The outer reference in this type test cannot be checked at run time.\n",
      "    case Expr.Builtin(constant) => constant.entryName\n",
      "                     ^\n",
      "cmd28.sc:65: The outer reference in this type test cannot be checked at run time.\n",
      "    case Expr.Lambda(name, tipe, body) => printpair(s\"λ($name : \", tipe, \") → \", body)\n",
      "                    ^\n",
      "cmd28.sc:66: The outer reference in this type test cannot be checked at run time.\n",
      "    case Expr.Forall(name, tipe, body) => printpair(s\"∀($name : \", tipe, \") → \", body)\n",
      "                    ^\n",
      "cmd28.sc:67: The outer reference in this type test cannot be checked at run time.\n",
      "    case Expr.Let(name, subst, body) => printpair(s\"let $name = \", subst, \" in \", body)\n",
      "                 ^\n",
      "cmd28.sc:68: The outer reference in this type test cannot be checked at run time.\n",
      "    case Expr.Annotated(body, tipe) => printpair(\"\", body, \" : \", tipe)\n",
      "                       ^\n",
      "cmd28.sc:69: The outer reference in this type test cannot be checked at run time.\n",
      "    case Expr.Applied(func, arg) => printpair(\"\", func, \" \", arg)\n",
      "                     ^\n",
      "cmd28.sc:70: The outer reference in this type test cannot be checked at run time.\n",
      "    case Expr.BinaryOp(left, op, right) => printpair(\"\", left, \" \" + op.name + \" \", right)\n",
      "                      ^\n"
     ]
    },
    {
     "data": {
      "text/plain": [
       "defined \u001b[32mfunction\u001b[39m \u001b[36mprecedence\u001b[39m\n",
       "defined \u001b[32mfunction\u001b[39m \u001b[36mprecedence\u001b[39m\n",
       "defined \u001b[32mfunction\u001b[39m \u001b[36minPrecedence\u001b[39m\n",
       "defined \u001b[32mfunction\u001b[39m \u001b[36mprettyprint\u001b[39m"
      ]
     },
     "execution_count": 28,
     "metadata": {},
     "output_type": "execute_result"
    }
   ],
   "source": [
    "/*\n",
    "   The pretty-printer works by computing the \"inner\" and \"outer\" binding precedence of each expression.\n",
    "\n",
    "   - Parentheses are required whenever the outer precedence is below the inner precedence.\n",
    "\n",
    "   Some examples:\n",
    "\n",
    "   a   *   b   +   c                 Plus( Times (a, b), c )\n",
    "      10      20\n",
    "\n",
    "   (a   +   b)   *   f     (g   c)           Times ( Plus (a, b), Applied(f, Applied(g, c) ) )\n",
    "       20       10     5,4    5\n",
    "\n",
    "   f   a     (b   +   c)   +   d       Plus( Applied ( Applied (f, a), Plus (b, c) ), d )\n",
    "     5   5,4     20       20\n",
    "\n",
    "   λ(a : Natural) → λ(b : Natural)  →  f   a   +   b    Lambda ( a, Natural, Lambda(b, Natural, Plus (Applied(f, a), b) ) )\n",
    "       8          3     8           3    5    20\n",
    "\n",
    "   (λ(a : Natural)  →  a)   b         Applied (Lambda (a, Natural, a), b)\n",
    "        8           3     5  \n",
    "\n",
    "   - Each of the Expr constructors has an overall outer precedence and a separate inner precedence for each Expr argument.\n",
    "\n",
    "   - Precedence values must be specified separately for each constructor and each argument.\n",
    "\n",
    "   Applied(f, a) has outer precedence 5 and inner precedence \n",
    "\n",
    "   - Binary operations have equal outer and inner precedence values. This is the \"precedence of the operation\".\n",
    "\n",
    "   - Other constructors sometimes have unequal outer and inner precedence values.\n",
    "*/\n",
    "\n",
    "def precedence(op: Operator): Int = op match {\n",
    "    case Operator.Plus => 20\n",
    "    case Operator.Times => 10\n",
    "}\n",
    "\n",
    "// Return (outer, List(inner1, inner2, ...)) for each constructor that may have Expr arguments.\n",
    "def precedence(e: Expr): (Int, List[Int]) = e match {\n",
    "    case Expr.NaturalLiteral(_) | Expr.Variable(_, _) | Expr.Builtin(_) => (0, List())  // Never need parentheses.\n",
    "    case Expr.Lambda(name, tipe, body) => (50, List(50, 50))\n",
    "    case Expr.Forall(name, tipe, body) => (50, List(50, 50))\n",
    "    case Expr.Let(name, subst, body) => (50, List(50, 50))\n",
    "    case Expr.Annotated(body, tipe) => (8, List(7, 60))   //   ( 1 : Natural ) : Natural : Type\n",
    "    case Expr.Applied(func, arg) => (5, List(4, 4))      //   f (g x)\n",
    "    case Expr.BinaryOp(_, op, _) =>\n",
    "        val prec = precedence(op)\n",
    "        (prec, List(prec, prec)) // For binary operators, all 3 precedence priorities are equal.\n",
    "}\n",
    "\n",
    "def inPrecedence(expr: String, innerPrec: Int, outerPrec: Int): String =\n",
    "    if (innerPrec > outerPrec) s\"($expr)\" else expr\n",
    "\n",
    "def prettyprint(e: Expr, outside: Int = 100): String = {\n",
    "  val (outer, inner) = precedence(e)\n",
    "\n",
    "def printpair(prefix: String, left: Expr, middle: String, right: Expr): String =\n",
    "    prefix + prettyprint(left, inner(0)) + middle + prettyprint(right, inner(1))\n",
    "\n",
    "  val exprPrinted = e match {\n",
    "    case Expr.NaturalLiteral(value) => value.toString\n",
    "    case Expr.Variable(name, index) => name + (if (index != 0) s\"@$index\" else \"\")\n",
    "    case Expr.Builtin(constant) => constant.entryName\n",
    "    case Expr.Lambda(name, tipe, body) => printpair(s\"λ($name : \", tipe, \") → \", body)\n",
    "    case Expr.Forall(name, tipe, body) => printpair(s\"∀($name : \", tipe, \") → \", body)\n",
    "    case Expr.Let(name, subst, body) => printpair(s\"let $name = \", subst, \" in \", body)\n",
    "    case Expr.Annotated(body, tipe) => printpair(\"\", body, \" : \", tipe)\n",
    "    case Expr.Applied(func, arg) => printpair(\"\", func, \" \", arg)\n",
    "    case Expr.BinaryOp(left, op, right) => printpair(\"\", left, \" \" + op.name + \" \", right)\n",
    "  }\n",
    "\n",
    "  inPrecedence(exprPrinted, outer, outside)\n",
    "}"
   ]
  },
  {
   "cell_type": "code",
   "execution_count": 29,
   "id": "c327811b-9802-43e0-891b-10350e7d212d",
   "metadata": {},
   "outputs": [
    {
     "data": {
      "text/plain": [
       "\u001b[36mres29_1\u001b[39m: \u001b[32mString\u001b[39m = \u001b[32m\"Tests passed for prettyprint().\"\u001b[39m"
      ]
     },
     "execution_count": 29,
     "metadata": {},
     "output_type": "execute_result"
    }
   ],
   "source": [
    "// Test the pretty-printer.\n",
    "Seq(\n",
    "        ( Test1.test0 -> \"1 + 2 + 3\"),\n",
    "        ( Test1.test1 -> \"(n + 123) : Natural\"),\n",
    "        ( Test1.test2 -> \"λ(n : Natural) → n + 1\"),\n",
    "        ( Test1.test3 -> \"∀(n : Natural) → Natural\"),\n",
    "        ( Test1.test4 -> \"(λ(n : Natural) → n + 1) : ∀(n : Natural) → Natural\"),\n",
    "        ( Test1.test5 -> \"(λ(n : Natural) → n + 1) ((n + 123) : Natural)\"),\n",
    "        ( Test1.test6 -> \"f (g x)\"),\n",
    ").zipWithIndex.foreach { case ((expr, expected), i) => expect(i >= 0 && prettyprint(expr) == expected) }\n",
    "\n",
    "\"Tests passed for prettyprint().\""
   ]
  }
 ],
 "metadata": {
  "kernelspec": {
   "display_name": "Scala",
   "language": "scala",
   "name": "scala"
  },
  "language_info": {
   "codemirror_mode": "text/x-scala",
   "file_extension": ".sc",
   "mimetype": "text/x-scala",
   "name": "scala",
   "nbconvert_exporter": "script",
   "version": "2.13.16"
  }
 },
 "nbformat": 4,
 "nbformat_minor": 5
}
