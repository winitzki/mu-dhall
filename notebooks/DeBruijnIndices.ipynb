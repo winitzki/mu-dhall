{
 "cells": [
  {
   "cell_type": "code",
   "execution_count": 39,
   "id": "6f79585b-06f3-468a-a270-6852b8b7ba41",
   "metadata": {},
   "outputs": [
    {
     "data": {
      "text/plain": [
       "\u001b[32mimport \u001b[39m\u001b[36mDSL._, Constants._\u001b[39m"
      ]
     },
     "execution_count": 39,
     "metadata": {},
     "output_type": "execute_result"
    }
   ],
   "source": [
    "import DSL._, Constants._"
   ]
  },
  {
   "cell_type": "code",
   "execution_count": 40,
   "id": "857bc0f6-5ca2-4d9b-8a97-8adf7c742a6e",
   "metadata": {},
   "outputs": [
    {
     "data": {
      "text/plain": [
       "\u001b[36mres40\u001b[39m: \u001b[32mExpr\u001b[39m = \u001b[33mBinaryOp\u001b[39m(\n",
       "  left = \u001b[33mNaturalLiteral\u001b[39m(value = \u001b[32m1\u001b[39m),\n",
       "  op = Plus,\n",
       "  right = \u001b[33mNaturalLiteral\u001b[39m(value = \u001b[32m2\u001b[39m)\n",
       ")"
      ]
     },
     "execution_count": 40,
     "metadata": {},
     "output_type": "execute_result"
    }
   ],
   "source": [
    "1.! + 2.!"
   ]
  },
  {
   "cell_type": "code",
   "execution_count": 42,
   "id": "0a95722e-f158-4a9b-8ec0-a48049077256",
   "metadata": {},
   "outputs": [
    {
     "data": {
      "text/plain": [
       "\u001b[36mres42\u001b[39m: \u001b[32mString\u001b[39m = \u001b[32m\"v@1\"\u001b[39m"
      ]
     },
     "execution_count": 42,
     "metadata": {},
     "output_type": "execute_result"
    }
   ],
   "source": [
    "prettyprint(\"v\" !! 1)"
   ]
  },
  {
   "cell_type": "code",
   "execution_count": null,
   "id": "77507175-1ee4-484d-b386-48e800f6a97e",
   "metadata": {},
   "outputs": [],
   "source": []
  }
 ],
 "metadata": {
  "kernelspec": {
   "display_name": "Scala",
   "language": "scala",
   "name": "scala"
  },
  "language_info": {
   "codemirror_mode": "text/x-scala",
   "file_extension": ".sc",
   "mimetype": "text/x-scala",
   "name": "scala",
   "nbconvert_exporter": "script",
   "version": "2.13.16"
  }
 },
 "nbformat": 4,
 "nbformat_minor": 5
}
