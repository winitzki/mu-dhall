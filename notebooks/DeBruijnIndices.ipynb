{
 "cells": [
  {
   "cell_type": "code",
   "execution_count": 39,
   "id": "6f79585b-06f3-468a-a270-6852b8b7ba41",
   "metadata": {},
   "outputs": [
    {
     "data": {
      "text/plain": [
       "\u001b[32mimport \u001b[39m\u001b[36mDSL._, Constants._\u001b[39m"
      ]
     },
     "execution_count": 39,
     "metadata": {},
     "output_type": "execute_result"
    }
   ],
   "source": [
    "import DSL._, Constants._"
   ]
  },
  {
   "cell_type": "markdown",
   "id": "648328fc-6323-4d88-86a6-ded666bb4bc3",
   "metadata": {},
   "source": [
    "De Bruijn indices are numbers that disambiguate each shadowed variable inside lambdas.\n",
    "\n",
    "For example:\n",
    "\n",
    "     λ(x : Natural) → λ(x : Natural) → 123 + x\n",
    "\n",
    "This code shadows the outer `x` inside the inner lambda. An equivalent code without shadowing is:\n",
    "\n",
    "     λ(x : Natural) → λ(t : Natural) → 123 + t\n",
    "\n",
    "Here we just renamed the inner `x` to `t`. What if we do not want to rename `x` to `t` but still want to refer to the outer `x`?\n",
    "In µDhall, we can write `x@1` for that:\n",
    "\n",
    "     λ(x : Natural) → λ(x : Natural) → 123 + x@1\n",
    "\n",
    "This code is equivalent to:\n",
    "\n",
    "     λ(x : Natural) → λ(t : Natural) → 123 + x\n",
    "\n",
    "The `1` in `x@1` is the de Bruijn index of the outer variable `x` when accessed from the inner scope.\n",
    "De Bruijn indices are non-negative integers.\n",
    "\n",
    "We usually do not write `x@0`, we write just `x`.\n",
    "\n",
    "Each de Bruijn index points to a specific nested lambda in some outer scope for a variable with a given name. For example, in this code:\n",
    "\n",
    "     λ(x : Natural) → λ(t : Natural) → λ(x : Natural) → 123 + x@1\n",
    "\n",
    "the variable `x@1` still points to the outer `x`. The presence of another lambda with the argument `t` does not matter for counting the nested depth for `x`.\n",
    "\n",
    "At top level, it is invalid to use an index that is greater than the number of nested lambdas. For example, these expressions are invalid at top level (as there cannot be any outer scope):\n",
    "\n",
    "     λ(x : Natural) → 123 + x@1\n",
    "     λ(x : Natural) → λ(x : Natural) → 123 + x@2\n",
    "\n",
    "At top level, these expressions are just as invalid as the expression `123 + x` since we never defined `x`.\n",
    "\n",
    "The variable `x` in the expression `123 + x` is considered **free**; meaning that it should be defined in the outer scope.\n",
    "Similarly, `x@1` in `λ(x : Natural) → 123 + x@1` is free. It is invalid to have expressions with free variables at top level.\n",
    "At the top level, all variables must be bound. Expressions with free variables must be within bodies of some functions that bind their free variables.\n",
    "\n",
    "When a function of the form `λ x → ...` is applied to an argument, we will need to substitute the outer `x`. Then we may need to recalculate some de Bruijn indices.\n",
    "\n",
    "Suppose we would like to evaluate a function applied to an argument in this code:\n",
    "\n",
    "     ( (x : Natural) → λ(y : Natural) → λ(x : Natural) → x + x@1 + x@2 ) y\n",
    "\n",
    "This expression has free variables `y` and `x@2`, so it can occur only within a function body that binds `x` and `y`. It is worth remarking that here we are about to evaluate an expression \"under a lambda\". That is, we are going to simplify the body of a function before applying that function.\n",
    "\n",
    "To evaluate this expression correctly, we cannot simply substitute `y` instead of `x`. Instead:\n",
    "\n",
    "- the outer `x` corresponds to `x@1` within the expression, so we need to substitute `y` instead of `x@1` while keeping `x` and `x@2` unchanged\n",
    "- `y` is already bound in the inner scope; so, we need to write `y@1` instead of `y`, in order to refer to the free variable `y` in the outside scope\n",
    "- as we remove the outer `x`, the free variable `x@2` will now become `x@1`.\n",
    "\n",
    "So, we must evaluate the given expression like this:\n",
    "\n",
    "     ( (x : Natural) → λ(y : Natural) → λ(x : Natural) → x + x@1 + x@2 ) y\n",
    "       = \n",
    "     λ(y : Natural) → λ(x : Natural) → x + y@1 + x@1  \n",
    "\n",
    "During a single substitution, sometimes we need to shift the indices upwards by 1, and sometimes downwards by 1. In order to be able to evaluate expressions and substitute arbitrary variables with de Bruijn indices correctly, we will now implement the general \"shift\" operation. This operation is defined in the Dhall standard [here](https://github.com/dhall-lang/dhall-lang/blob/master/standard/shift.md) as a function of _four_ arguments:\n",
    "\n",
    "     // d = +1 or d = -1\n",
    "     // x is the variable symbol\n",
    "     // m is the minimum index for shifting; we will shift x@n only if n >= m\n",
    "     // e1 is an expression where we need to shift\n",
    "     \n",
    "     shift(d, x, m, e1) = e2\n",
    "\n",
    "The Dhall documentation uses the \"proof notation\" for all definitions. The proof notation shows how to prove a desired statement (or \"judgment\") by proving some other statements first, or by referring to axioms. The equation `shift(d, x, m, e1) = e2` is seen as a judgment that the result of evaluating the `shift` function with some arguments happens to equal `e2`. But we prefer to interpret that equation as a recipe for computing `e2` given `d`, `x`, `m`, and `e1`.\n",
    "\n",
    "Adapting the Dhall specification to µDhall, we find the following definition of `shift`:\n",
    "\n",
    "     shift(d, x, m, x@n) = x@(n + d)  // if n >= m"
   ]
  },
  {
   "cell_type": "code",
   "execution_count": 42,
   "id": "0a95722e-f158-4a9b-8ec0-a48049077256",
   "metadata": {},
   "outputs": [
    {
     "data": {
      "text/plain": [
       "\u001b[36mres42\u001b[39m: \u001b[32mString\u001b[39m = \u001b[32m\"v@1\"\u001b[39m"
      ]
     },
     "execution_count": 42,
     "metadata": {},
     "output_type": "execute_result"
    }
   ],
   "source": []
  },
  {
   "cell_type": "code",
   "execution_count": null,
   "id": "77507175-1ee4-484d-b386-48e800f6a97e",
   "metadata": {},
   "outputs": [],
   "source": []
  }
 ],
 "metadata": {
  "kernelspec": {
   "display_name": "Scala",
   "language": "scala",
   "name": "scala"
  },
  "language_info": {
   "codemirror_mode": "text/x-scala",
   "file_extension": ".sc",
   "mimetype": "text/x-scala",
   "name": "scala",
   "nbconvert_exporter": "script",
   "version": "2.13.16"
  }
 },
 "nbformat": 4,
 "nbformat_minor": 5
}
