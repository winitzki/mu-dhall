{
 "cells": [
  {
   "cell_type": "code",
   "execution_count": 39,
   "id": "6f79585b-06f3-468a-a270-6852b8b7ba41",
   "metadata": {},
   "outputs": [
    {
     "data": {
      "text/plain": [
       "\u001b[32mimport \u001b[39m\u001b[36mDSL._, Constants._\u001b[39m"
      ]
     },
     "execution_count": 39,
     "metadata": {},
     "output_type": "execute_result"
    }
   ],
   "source": [
    "import DSL._, Constants._"
   ]
  },
  {
   "cell_type": "markdown",
   "id": "648328fc-6323-4d88-86a6-ded666bb4bc3",
   "metadata": {},
   "source": [
    "De Bruijn indices are numbers that disambiguate each shadowed variable inside lambdas.\n",
    "\n",
    "For example:\n",
    "\n",
    "     λ(x : Natural) → λ(x : Natural) → 123 + x\n",
    "\n",
    "This code shadows the outer `x` inside the inner lambda. An equivalent code without shadowing is:\n",
    "\n",
    "     λ(x : Natural) → λ(t : Natural) → 123 + t\n",
    "\n",
    "Here we just renamed the inner `x` to `t`. What if we do not want to rename `x` to `t` but still want to refer to the outer `x`?\n",
    "In µDhall, we can write `x@1` for that:\n",
    "\n",
    "     λ(x : Natural) → λ(x : Natural) → 123 + x@1\n",
    "\n",
    "This code is equivalent to:\n",
    "\n",
    "     λ(x : Natural) → λ(t : Natural) → 123 + x\n",
    "\n",
    "The `1` in `x@1` is the de Bruijn index of the outer variable `x` when accessed from the inner scope.\n",
    "De Bruijn indices are non-negative integers.\n",
    "\n",
    "We usually do not write `x@0`, we write just `x`.\n",
    "\n",
    "Each de Bruijn index points to a specific nested lambda in some outer scope for a variable with a given name. For example, in this code:\n",
    "\n",
    "     λ(x : Natural) → λ(t : Natural) → λ(x : Natural) → 123 + x@1\n",
    "\n",
    "the variable `x@1` still points to the outer `x`. The presence of another lambda with the argument `t` does not matter for counting the nested depth for `x`.\n",
    "\n",
    "It is invalid to use an index that is greater than the number of nested lambdas. For example, these expressions are invalid at top level (as there cannot be any outer scope):\n",
    "\n",
    "     λ(x : Natural) → 123 + x@1\n",
    "     λ(x : Natural) → λ(x : Natural) → 123 + x@2\n",
    "\n",
    "These expressions are just as invalid as the expression `123 + x` at top level, as we never defined `x`.\n",
    "\n",
    "The variable `x` in the expression `123 + x` is considered **free**; meaning that it should be defined in the outer scope.\n",
    "Similarly, `x@1` in `λ(x : Natural) → 123 + x@1` is free. It is invalid to have expressions with free variables at top level.\n",
    "At the top level, all variables must be bound.\n",
    "\n",
    "When a function of the form `λ x → ...` is applied to arguments, we will need to substitute the outer `x`. If any variables were referring to that `x`, their indices will need to be decremented.\n",
    "\n",
    "Example:\n",
    "\n",
    "     ( (x : Natural) → λ(y : Natural) → λ(x : Natural) → 123 + x@1 ) y\n",
    "\n",
    "We set `x = 456` for the outer `x`\n",
    "\n",
    "Now we need to implement these operations with expressions that contain nonzero de Bruijn indices."
   ]
  },
  {
   "cell_type": "code",
   "execution_count": 42,
   "id": "0a95722e-f158-4a9b-8ec0-a48049077256",
   "metadata": {},
   "outputs": [
    {
     "data": {
      "text/plain": [
       "\u001b[36mres42\u001b[39m: \u001b[32mString\u001b[39m = \u001b[32m\"v@1\"\u001b[39m"
      ]
     },
     "execution_count": 42,
     "metadata": {},
     "output_type": "execute_result"
    }
   ],
   "source": [
    "prettyprint(\"v\" !! 1)"
   ]
  },
  {
   "cell_type": "code",
   "execution_count": null,
   "id": "77507175-1ee4-484d-b386-48e800f6a97e",
   "metadata": {},
   "outputs": [],
   "source": []
  }
 ],
 "metadata": {
  "kernelspec": {
   "display_name": "Scala",
   "language": "scala",
   "name": "scala"
  },
  "language_info": {
   "codemirror_mode": "text/x-scala",
   "file_extension": ".sc",
   "mimetype": "text/x-scala",
   "name": "scala",
   "nbconvert_exporter": "script",
   "version": "2.13.16"
  }
 },
 "nbformat": 4,
 "nbformat_minor": 5
}
