{
 "cells": [
  {
   "cell_type": "code",
   "execution_count": 1,
   "id": "ad7931b6-f337-4dca-8c1e-d454fc68ebe3",
   "metadata": {},
   "outputs": [
    {
     "data": {
      "text/plain": [
       "\u001b[32mimport \u001b[39m\u001b[36mfastparse._\u001b[39m"
      ]
     },
     "execution_count": 1,
     "metadata": {},
     "output_type": "execute_result"
    }
   ],
   "source": [
    "// See https://jonnylaw.rocks/posts/2019-04-15-scala-and-jupyter-notebook-with-almond/ for some info about setup.\n",
    "\n",
    "import fastparse._"
   ]
  },
  {
   "cell_type": "code",
   "execution_count": 2,
   "id": "15d804b6-38ba-4775-9bee-375a7c338957",
   "metadata": {},
   "outputs": [
    {
     "data": {
      "text/plain": [
       "\u001b[32mimport \u001b[39m\u001b[36m$ivy.$\u001b[39m\n",
       "\u001b[32mimport \u001b[39m\u001b[36menumeratum.{Enum, EnumEntry}\u001b[39m"
      ]
     },
     "execution_count": 2,
     "metadata": {},
     "output_type": "execute_result"
    }
   ],
   "source": [
    "import $ivy.`com.beachape::enumeratum:1.7.3`\n",
    "import enumeratum.{Enum, EnumEntry}\n"
   ]
  },
  {
   "cell_type": "code",
   "execution_count": 3,
   "id": "1c3905db-f793-40a7-b326-221a85396909",
   "metadata": {},
   "outputs": [
    {
     "data": {
      "text/plain": [
       "defined \u001b[32mclass\u001b[39m \u001b[36mConstant\u001b[39m\n",
       "defined \u001b[32mobject\u001b[39m \u001b[36mConstant\u001b[39m"
      ]
     },
     "execution_count": 3,
     "metadata": {},
     "output_type": "execute_result"
    }
   ],
   "source": [
    "// Define the set of built-in symbols supported in µDhall.\n",
    "\n",
    "sealed abstract class Constant(override val entryName: String) extends EnumEntry {}\n",
    "\n",
    "object Constant extends Enum[Constant] {\n",
    "  override def values = findValues\n",
    "\n",
    "  case object Natural         extends Constant(\"Natural\")\n",
    "  case object NaturalFold     extends Constant(\"Natural/fold\")\n",
    "  case object NaturalIsZero   extends Constant(\"Natural/isZero\")\n",
    "  case object NaturalSubtract extends Constant(\"Natural/subtract\")\n",
    "  case object Kind            extends Constant(\"Kind\")\n",
    "  case object Type            extends Constant(\"Type\")\n",
    "}"
   ]
  },
  {
   "cell_type": "code",
   "execution_count": 4,
   "id": "820d2d1e-9bd0-47ea-809f-7c0281810ca3",
   "metadata": {},
   "outputs": [
    {
     "data": {
      "text/plain": [
       "defined \u001b[32mclass\u001b[39m \u001b[36mOperator\u001b[39m\n",
       "defined \u001b[32mobject\u001b[39m \u001b[36mOperator\u001b[39m"
      ]
     },
     "execution_count": 4,
     "metadata": {},
     "output_type": "execute_result"
    }
   ],
   "source": [
    "// Define the set of built-in binary operators supported in µDhall.\n",
    "\n",
    "sealed abstract class Operator(override val entryName: String, prec: Int) extends EnumEntry\n",
    "\n",
    "object Operator extends Enum[Operator] {\n",
    "  val values = findValues\n",
    "  // These operators work only with values of type Natural.\n",
    "  case object Plus extends Operator(\"+\", 10)\n",
    "  case object Times extends Operator(\"*\", 20)\n",
    "}"
   ]
  },
  {
   "cell_type": "code",
   "execution_count": 5,
   "id": "2656aae8-bed7-4300-a0bf-58631f9fb2fd",
   "metadata": {},
   "outputs": [
    {
     "name": "stderr",
     "output_type": "stream",
     "text": [
      "cmd5.sc:179: The outer reference in this type test cannot be checked at run time.\n",
      "  final case class NaturalLiteral(value: Int) extends Expr {\n",
      "                   ^\n",
      "cmd5.sc:183: The outer reference in this type test cannot be checked at run time.\n",
      "  final case class Variable(name: String, dbi: Int = 0) extends Expr {\n",
      "                   ^\n",
      "cmd5.sc:187: The outer reference in this type test cannot be checked at run time.\n",
      "  final case class Lambda(name: String, tpe: Expr, body: Expr) extends Expr\n",
      "                   ^\n",
      "cmd5.sc:190: The outer reference in this type test cannot be checked at run time.\n",
      "  final case class Forall(name: String, tpe: Expr, body: Expr) extends Expr\n",
      "                   ^\n",
      "cmd5.sc:193: The outer reference in this type test cannot be checked at run time.\n",
      "  final case class Let(name: String, subst: Expr, body: Expr) extends Expr\n",
      "                   ^\n",
      "cmd5.sc:196: The outer reference in this type test cannot be checked at run time.\n",
      "  final case class Annotated(body: Expr, tpe: Expr) extends Expr\n",
      "                   ^\n",
      "cmd5.sc:199: The outer reference in this type test cannot be checked at run time.\n",
      "  final case class Applied(func: Expr, arg: Expr) extends Expr\n",
      "                   ^\n",
      "cmd5.sc:202: The outer reference in this type test cannot be checked at run time.\n",
      "  final case class Builtin(constant: Constant) extends Expr\n",
      "                   ^\n",
      "cmd5.sc:205: The outer reference in this type test cannot be checked at run time.\n",
      "  final case class BinaryOp(l: Expr, op: Operator, r: Expr) extends Expr\n",
      "                   ^\n"
     ]
    },
    {
     "data": {
      "text/plain": [
       "defined \u001b[32mtrait\u001b[39m \u001b[36mExpr\u001b[39m\n",
       "defined \u001b[32mobject\u001b[39m \u001b[36mExpr\u001b[39m"
      ]
     },
     "execution_count": 5,
     "metadata": {},
     "output_type": "execute_result"
    }
   ],
   "source": [
    "sealed trait Expr\n",
    "\n",
    "object Expr {\n",
    "  // Natural literals, for example 123\n",
    "  final case class NaturalLiteral(value: Int) extends Expr {\n",
    "      require(value >= 0)\n",
    "  }\n",
    "  // Variables with their de Bruijn indices.\n",
    "  final case class Variable(name: String, dbi: Int = 0) extends Expr {\n",
    "      require (dbi >= 0)\n",
    "  }\n",
    "  // λ(name : tpe) → body  -- Function literal value.\n",
    "  final case class Lambda(name: String, tpe: Expr, body: Expr) extends Expr\n",
    "\n",
    "  // ∀(name : tpe) → body  -- Function type.\n",
    "  final case class Forall(name: String, tpe: Expr, body: Expr) extends Expr\n",
    "\n",
    "  // let name = subst in body  -- Locally scoped variable definition.\n",
    "  final case class Let(name: String, subst: Expr, body: Expr) extends Expr\n",
    "\n",
    "  // body : tpe   -- Type annotation.\n",
    "  final case class Annotated(body: Expr, tpe: Expr) extends Expr\n",
    "\n",
    "  // func arg   -- Application of a function to an argument.\n",
    "  final case class Applied(func: Expr, arg: Expr) extends Expr\n",
    "\n",
    "  // Built-in constant symbols such as \"Natural\" or \"Type\".\n",
    "  final case class Builtin(constant: Constant) extends Expr\n",
    "\n",
    "  // Binary operations such as \"n + 123\".\n",
    "  final case class BinaryOp(l: Expr, op: Operator, r: Expr) extends Expr\n",
    "}"
   ]
  },
  {
   "cell_type": "code",
   "execution_count": 6,
   "id": "02bb87c9-8331-4a21-812f-beb233a8038d",
   "metadata": {},
   "outputs": [
    {
     "data": {
      "text/plain": [
       "\u001b[36mtest\u001b[39m: \u001b[32mExpr\u001b[39m.\u001b[32mBinaryOp\u001b[39m = \u001b[33mBinaryOp\u001b[39m(\n",
       "  l = \u001b[33mNaturalLiteral\u001b[39m(value = \u001b[32m123\u001b[39m),\n",
       "  op = Plus,\n",
       "  r = \u001b[33mVariable\u001b[39m(name = \u001b[32m\"a\"\u001b[39m, dbi = \u001b[32m0\u001b[39m)\n",
       ")"
      ]
     },
     "execution_count": 6,
     "metadata": {},
     "output_type": "execute_result"
    }
   ],
   "source": [
    "val test = Expr.BinaryOp(Expr.NaturalLiteral(123), Operator.Plus, Expr.Variable(\"a\", 0))"
   ]
  },
  {
   "cell_type": "code",
   "execution_count": 7,
   "id": "dafec1d9-75a7-4f1e-a3cf-be64173cdd86",
   "metadata": {},
   "outputs": [
    {
     "data": {
      "text/plain": [
       "defined \u001b[32mobject\u001b[39m \u001b[36mDSL\u001b[39m"
      ]
     },
     "execution_count": 7,
     "metadata": {},
     "output_type": "execute_result"
    }
   ],
   "source": [
    "object DSL { // Helper methods for creating µDhall values more easily in Scala.\n",
    "    import Expr._\n",
    "    import Constant._\n",
    "    import Operator._\n",
    "    \n",
    "    implicit class IntroduceVar(name: String) {\n",
    "        def ! : Variable = Variable(name)\n",
    "    }\n",
    "    implicit class IntroduceNatural(n: Int) {\n",
    "        def  ! : NaturalLiteral = NaturalLiteral(n)\n",
    "    }\n",
    "    implicit class IntroduceSymbol(c: Constant) {\n",
    "        def ! : Expr = Builtin(c)\n",
    "    }\n",
    "    implicit class NaturalOps(x: Expr) {\n",
    "        def +(other: Expr) : Expr = BinaryOp(x, Plus, other)\n",
    "        def *(other: Expr) : Expr = BinaryOp(x, Times, other)\n",
    "    }\n",
    "\n",
    "}"
   ]
  },
  {
   "cell_type": "code",
   "execution_count": 9,
   "id": "f0b20d83-99b2-4b84-94d8-3d742eb028e2",
   "metadata": {},
   "outputs": [
    {
     "data": {
      "text/plain": [
       "\u001b[32mimport \u001b[39m\u001b[36mDSL._\u001b[39m\n",
       "\u001b[32mimport \u001b[39m\u001b[36mConstant._\u001b[39m\n",
       "\u001b[36mtest\u001b[39m: (\u001b[32mExpr\u001b[39m, \u001b[32mExpr\u001b[39m) = (\n",
       "  \u001b[33mBinaryOp\u001b[39m(\n",
       "    l = \u001b[33mVariable\u001b[39m(name = \u001b[32m\"n\"\u001b[39m, dbi = \u001b[32m0\u001b[39m),\n",
       "    op = Plus,\n",
       "    r = \u001b[33mNaturalLiteral\u001b[39m(value = \u001b[32m123\u001b[39m)\n",
       "  ),\n",
       "  \u001b[33mBuiltin\u001b[39m(constant = Type)\n",
       ")"
      ]
     },
     "execution_count": 9,
     "metadata": {},
     "output_type": "execute_result"
    }
   ],
   "source": [
    "{\n",
    "    //import scala.language.postfixOps\n",
    "    import DSL._\n",
    "    import Constant._\n",
    "    \n",
    "    val test = (\"n\".! + 123.! ,  Type!)\n",
    "}"
   ]
  },
  {
   "cell_type": "code",
   "execution_count": null,
   "id": "4109d413-28c9-4dd8-974e-3552f4c0cffb",
   "metadata": {},
   "outputs": [],
   "source": []
  },
  {
   "cell_type": "code",
   "execution_count": null,
   "id": "75b0e21f-bc11-4c69-96ce-621307007e27",
   "metadata": {},
   "outputs": [],
   "source": []
  }
 ],
 "metadata": {
  "kernelspec": {
   "display_name": "Scala",
   "language": "scala",
   "name": "scala"
  },
  "language_info": {
   "codemirror_mode": "text/x-scala",
   "file_extension": ".sc",
   "mimetype": "text/x-scala",
   "name": "scala",
   "nbconvert_exporter": "script",
   "version": "2.13.16"
  }
 },
 "nbformat": 4,
 "nbformat_minor": 5
}
