{
 "cells": [
  {
   "cell_type": "code",
   "execution_count": 41,
   "id": "7a396055-c0ac-46b4-bbd5-2f1a70eec543",
   "metadata": {},
   "outputs": [
    {
     "data": {
      "text/plain": [
       "\u001b[32mimport \u001b[39m\u001b[36m$ivy.$                             , izumi.reflect.Tag\u001b[39m"
      ]
     },
     "execution_count": 41,
     "metadata": {},
     "output_type": "execute_result"
    }
   ],
   "source": [
    "import $ivy.`dev.zio::izumi-reflect:2.3.8`, izumi.reflect.Tag"
   ]
  },
  {
   "cell_type": "code",
   "execution_count": null,
   "id": "c94b2e51-23f5-49ed-bb3f-d3c04f471aed",
   "metadata": {},
   "outputs": [],
   "source": [
    "\n"
   ]
  },
  {
   "cell_type": "code",
   "execution_count": null,
   "id": "e6093237-0c8b-4264-b209-e495357274d9",
   "metadata": {},
   "outputs": [],
   "source": []
  }
 ],
 "metadata": {
  "kernelspec": {
   "display_name": "Scala",
   "language": "scala",
   "name": "scala"
  },
  "language_info": {
   "codemirror_mode": "text/x-scala",
   "file_extension": ".sc",
   "mimetype": "text/x-scala",
   "name": "scala",
   "nbconvert_exporter": "script",
   "version": "2.13.16"
  }
 },
 "nbformat": 4,
 "nbformat_minor": 5
}
