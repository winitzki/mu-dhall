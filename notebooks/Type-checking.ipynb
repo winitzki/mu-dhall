{
 "cells": [
  {
   "cell_type": "markdown",
   "id": "bcff91f8-2cd0-497d-9f9a-8f43ebcd845b",
   "metadata": {},
   "source": [
    "Type-checking is a procedure where we determine whether a given µDhall expression has a well-defined type. If so, we will have \"inferred\" that type and found that the expression is \"well-typed\". Otherwise, the expression will be considered as \"ill-typed\" (having a type error), and we will reject that expression as invalid and report the error to the user.\n",
    "\n",
    "Type-checking is a necessary step before evaluating any expressions: only well-typed expressions will be evaluated.\n",
    "\n",
    "In µDhall, type-checking is simple. The user needs to specify the types in all lambda functions, and expressions may not be recursive. So, any variable contained in a valid expression already has a specified type.\n",
    "\n",
    "For example, consider this expression:\n",
    "\n",
    "     λ(x : Natural) → x + y\n",
    "\n",
    "When we look at the sub-expression `x + y`, we already know that `x` has type `Natural`. If `y` is undefined (a free variable), we cannot know the type of `y`, so we cannot type-check this expression. So, we stop and report a type error due to an undefined variable `y`. If `y` has been bound in some lambda in an outer scope (such as `λ(y : T) → ...`) then we will know the type `T` that has been assigned to `y`. Then we need to verify that the operation `+` is well-typed: both its operands must have type `Natural`. In this case, we need to verify that `T` is `Natural`. If this is so, the entire expression is well-typed: it is a function of type `∀(x : Natural) → Natural`. Otherwise, we will have found a type error: the operation `+` is applied to a value of type different from `Natural`. We reject the expression and show the type error to the user.\n",
    "\n",
    "We see that type-checking requires us to know what types have been previously assigned to bound variables when we descend recursively into sub-expressions. This information is held as a list of type assignments such as `[ y : T, x : Natural ]`. This list is called a **typing context** and is often denoted by the letter Γ (\"gamma\").\n",
    "\n",
    "To describe this property of µDhall's type-checking algorithm, we say it is **unidirectional**. The intuition is that the type information goes from lambda function declarations (`λ(x : Natural) → ...`) towards the function bodies, but not in the opposite direction.\n",
    "\n",
    "The unidirectional type-checking algorithm descends recursively through the expressions and their sub-expressions. Each time we encounter a lambda, such as `λ(x : Natural) → ...`, we add the type annotation `x : Natural` to the current typing context and proceed to type-check the function body recursively. Checking the function body will yield success or failure, but no additional type information about `x`.\n",
    "\n",
    "A unidirectional type-checking algorithm is not able to infer the type of `x` in this example:\n",
    "\n",
    "     λ(x) → λ(y : Natural) → x + y  -- Not valid in µDhall!\n",
    "\n",
    "The binary operation `+` is defined only for `Natural` operands, but the algorithm is not able to infer that `x` must be `Natural` and to fill in the missing type annotation for `x`. That can be done via **bidirectional type-checking** algorithms, but they are much more complicated.\n",
    "\n",
    "We also see that type-checking needs evaluation and equality comparison. In the example just shown, we need to know whether the type `T` equals `Natural`. However, `T` could be a complicated type expression involving function applications. To know whether `T` is really equal to `Natural`, we need to be able to evaluate arbitrary expressions to an unambiguous normal form. This requires us to use full alpha und beta normalization."
   ]
  },
  {
   "cell_type": "code",
   "execution_count": null,
   "id": "2e7f2cc6-b042-4143-adf3-89991044ccee",
   "metadata": {},
   "outputs": [],
   "source": []
  },
  {
   "cell_type": "markdown",
   "id": "e91cebce-0fa3-4ce8-beb0-ae310bed2304",
   "metadata": {},
   "source": [
    " $a \\to _\\beta b$"
   ]
  },
  {
   "cell_type": "code",
   "execution_count": null,
   "id": "67dff2ea-e342-489e-ae7d-d53ac6c3ec4b",
   "metadata": {},
   "outputs": [],
   "source": []
  }
 ],
 "metadata": {
  "kernelspec": {
   "display_name": "Python 3 (ipykernel)",
   "language": "python",
   "name": "python3"
  },
  "language_info": {
   "codemirror_mode": {
    "name": "ipython",
    "version": 3
   },
   "file_extension": ".py",
   "mimetype": "text/x-python",
   "name": "python",
   "nbconvert_exporter": "python",
   "pygments_lexer": "ipython3",
   "version": "3.13.5"
  }
 },
 "nbformat": 4,
 "nbformat_minor": 5
}
