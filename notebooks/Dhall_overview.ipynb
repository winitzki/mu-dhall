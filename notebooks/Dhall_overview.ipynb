{
 "cells": [
  {
   "cell_type": "markdown",
   "id": "63717c8c-87ac-41f8-b99d-bbc824fe0e47",
   "metadata": {},
   "source": [
    "Dhall is a purely functional configuration language.\n",
    "\n",
    "The official site [dhall-lang.org](https://dhall-lang.org) contains user documentation, while the [github repository](https://github.com/dhall-lang/dhall-lang/blob/master/standard/) contains a formal specification of the language, intended for developers.\n",
    "\n",
    "Dhall programs look like this:\n",
    "\n",
    "     let f = λ(x : Natural) → λ(y : Natural) → x + y + 2\n",
    "     let id = λ(a : Type) → λ(x : a) → x\n",
    "     in f 10 (id Natural 20)\n",
    "       -- This is a complete Dhall program; it evaluates to 32 of type Natural.\n",
    "\n",
    "Main features of Dhall:\n",
    "\n",
    "- simple syntax, everything is a statically typed expression\n",
    "- few built-in types and functions (`Natural`, `Bool`, `Text`, `Optional`, `List`, and some others)\n",
    "- safety: no side effects, no mutation, no exceptions, no partial functions\n",
    "- a very powerful type system: Dhall implements System F-omega but treats types similarly to values, has structurally typed records and unions, and basic support for dependent types\n",
    "- restricted computations: no general recursion, no general string comparison\n",
    "- file-based module system with safe imports\n",
    "\n",
    "Main use case for Dhall is to represent at once an entire JSON or YAML configuration file and its data schema with some validations.\n",
    "\n",
    "A Dhall script for a small configuration file could look like this:\n",
    "\n",
    "     let Text/nonEmpty = ./text-utils/Text/nonEmpty.dhall\n",
    "     let Natural/greaterThan = https://prelude.dhall-lang.org/Natural/greaterThan\n",
    "     let username = env:DB_USER as Text\n",
    "     let password = env:DB_PASS as Text\n",
    "     let port : Natural = env:DB_PORT\n",
    "     let _ = assert : Text/nonEmpty password\n",
    "     let _ = assert : Text/nonEmpty username\n",
    "     let _ = assert : Natural/greaterThan port 1024 === True\n",
    "     in {\n",
    "       db-host = \"localhost:${port}\"\n",
    "       db-password = password\n",
    "       db-username = username\n",
    "     }\n",
    "\n",
    "This script can be run via `dhall-json` or `dhall-yaml` utilities to generate JSON or YAML configuration files. Those files will not be generated if any validations fail (the `assert` expressions)."
   ]
  },
  {
   "cell_type": "markdown",
   "id": "25ab8090-b8ad-4782-949f-a2712e8b7ec1",
   "metadata": {},
   "source": [
    "We will implement µDhall, a subset of Dhall that is just about large enough to run the first example program shown above.\n",
    "\n",
    "We will not implement records, union types, or imports. Our goal is to learn how a functional language can be specified and implemented. Once we learn that, we will be able to add new features safely and consistently.\n",
    "\n",
    "Here is an example µDhall program that uses all features we will support:\n",
    "\n",
    "     let f = λ(x : Natural) → λ(x : Natural) → (123 + x) * x@1\n",
    "     let id = λ(a : Type) → λ(x : a) → x\n",
    "     let type_of_id = ∀(a : Type) → a → a\n",
    "     let _ = id : type_of_id\n",
    "     let _ = type_of_id : Type\n",
    "     let _ = Type : Kind\n",
    "     let Void = ∀(r : Type) → r\n",
    "     let Unit = ∀(r : Type) → r \n",
    "     let Pair = λ(a : Type) → λ(b : Type) → ∀(r : Type) → (a → b → r) → r\n",
    "     in f 10 (id Natural 20)\n",
    "\n",
    "We will implement parsing, type-checking, and evaluation of µDhall programs."
   ]
  }
 ],
 "metadata": {
  "kernelspec": {
   "display_name": "Python 3 (ipykernel)",
   "language": "python",
   "name": "python3"
  },
  "language_info": {
   "codemirror_mode": {
    "name": "ipython",
    "version": 3
   },
   "file_extension": ".py",
   "mimetype": "text/x-python",
   "name": "python",
   "nbconvert_exporter": "python",
   "pygments_lexer": "ipython3",
   "version": "3.13.5"
  }
 },
 "nbformat": 4,
 "nbformat_minor": 5
}
