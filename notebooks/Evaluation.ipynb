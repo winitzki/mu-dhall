{
 "cells": [
  {
   "cell_type": "markdown",
   "id": "6c33f249-de1e-4033-af1b-b008d1f1e83d",
   "metadata": {},
   "source": [
    "Evaluation in µDhall is based on applying just three rules:\n",
    "\n",
    "- Function application is evaluated by substituting variables. For example, ``\n",
    "- Built-in operations and functions (for example, `10 + 20` or `Natural/subtract 1 2`) are evaluated according to their specific meaning.\n",
    "- Rename all bound variables so that we will be able to compare lambdas.\n",
    "\n",
    "Evaluation will take a µDhall expression and produce an equivalent expression in the \"normal form\". The normal form cannot be evaluated any further. In most cases, the normal form will be a simple value (say, a `Natural` number).\n",
    "\n",
    "However, in some cases the normal form can be longer than the initial expression.\n",
    "This is because evaluation in µDhall is symbolic: it will apply functions even under lambda where some operands are variable symbols. For example, this expression:\n",
    "\n",
    "     λ(x : Natural) → (λ(y : Natural) → x + y) 123\n",
    "\n",
    "is evaluated to the normal form `λ(x : Natural) → x + 123`. We have simplified `(λ(y : Natural) → x + y) 123` to `x + 123` even though `x` remains a variable symbol.\n",
    "\n",
    "We specify those rules in the \"proof notation\". We need to specify how these operations work with all possible expression structures. This will allow us to translate the specification directly into code."
   ]
  },
  {
   "cell_type": "code",
   "execution_count": null,
   "id": "f46a6601-7617-4e55-95d7-cdf692e6d459",
   "metadata": {},
   "outputs": [],
   "source": []
  }
 ],
 "metadata": {
  "kernelspec": {
   "display_name": "Python 3 (ipykernel)",
   "language": "python",
   "name": "python3"
  },
  "language_info": {
   "codemirror_mode": {
    "name": "ipython",
    "version": 3
   },
   "file_extension": ".py",
   "mimetype": "text/x-python",
   "name": "python",
   "nbconvert_exporter": "python",
   "pygments_lexer": "ipython3",
   "version": "3.13.5"
  }
 },
 "nbformat": 4,
 "nbformat_minor": 5
}
