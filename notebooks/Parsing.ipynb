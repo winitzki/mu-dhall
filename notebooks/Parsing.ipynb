{
 "cells": [
  {
   "cell_type": "code",
   "execution_count": 43,
   "id": "f0df7aae-33f1-4303-9119-83b7a2e1fa7f",
   "metadata": {},
   "outputs": [
    {
     "data": {
      "text/plain": [
       "\u001b[32mimport \u001b[39m\u001b[36mfastparse._\u001b[39m"
      ]
     },
     "execution_count": 43,
     "metadata": {},
     "output_type": "execute_result"
    }
   ],
   "source": [
    "import fastparse._"
   ]
  },
  {
   "cell_type": "markdown",
   "id": "353dd1d9-af77-426d-8ae9-7e778a517d25",
   "metadata": {},
   "source": [
    "The grammar of µDhall is a much simplified version of the [Dhall grammar](https://github.com/dhall-lang/dhall-lang/blob/master/standard/dhall.abnf)."
   ]
  },
  {
   "cell_type": "code",
   "execution_count": null,
   "id": "b72a91f7-8693-405e-93bc-58707de3b804",
   "metadata": {},
   "outputs": [],
   "source": [
    "object Grammar {\n",
    "    \n",
    "}"
   ]
  }
 ],
 "metadata": {
  "kernelspec": {
   "display_name": "Scala",
   "language": "scala",
   "name": "scala"
  },
  "language_info": {
   "codemirror_mode": "text/x-scala",
   "file_extension": ".sc",
   "mimetype": "text/x-scala",
   "name": "scala",
   "nbconvert_exporter": "script",
   "version": "2.13.16"
  }
 },
 "nbformat": 4,
 "nbformat_minor": 5
}
