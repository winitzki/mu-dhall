{
 "cells": [
  {
   "cell_type": "code",
   "execution_count": null,
   "id": "f0df7aae-33f1-4303-9119-83b7a2e1fa7f",
   "metadata": {},
   "outputs": [],
   "source": [
    "import fastparse._"
   ]
  }
 ],
 "metadata": {
  "kernelspec": {
   "display_name": "Scala",
   "language": "scala",
   "name": "scala"
  },
  "language_info": {
   "codemirror_mode": "text/x-scala",
   "file_extension": ".sc",
   "mimetype": "text/x-scala",
   "name": "scala",
   "nbconvert_exporter": "script",
   "version": "2.13.16"
  }
 },
 "nbformat": 4,
 "nbformat_minor": 5
}
